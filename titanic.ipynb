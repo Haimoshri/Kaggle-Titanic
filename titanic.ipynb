{
  "nbformat": 4,
  "nbformat_minor": 0,
  "metadata": {
    "colab": {
      "name": "titanic.ipynb",
      "provenance": [],
      "collapsed_sections": [],
      "include_colab_link": true
    },
    "kernelspec": {
      "name": "python3",
      "display_name": "Python 3"
    }
  },
  "cells": [
    {
      "cell_type": "markdown",
      "metadata": {
        "id": "view-in-github",
        "colab_type": "text"
      },
      "source": [
        "<a href=\"https://colab.research.google.com/github/Haimoshri/Kaggle-Titanic/blob/master/titanic.ipynb\" target=\"_parent\"><img src=\"https://colab.research.google.com/assets/colab-badge.svg\" alt=\"Open In Colab\"/></a>"
      ]
    },
    {
      "cell_type": "code",
      "metadata": {
        "id": "EJlIFnKUEq0G",
        "colab_type": "code",
        "colab": {}
      },
      "source": [
        "# This Python 3 environment comes with many helpful analytics libraries installed\n",
        "# It is defined by the kaggle/python docker image: https://github.com/kaggle/docker-python\n",
        "# For example, here's several helpful packages to load in \n",
        "\n",
        "import numpy as np # linear algebra\n",
        "import pandas as pd # data processing, CSV file I/O (e.g. pd.read_csv)\n",
        "import csv\n",
        "import numpy as np\n",
        "import torch\n",
        "import torch.nn as nn\n",
        "import torch.nn.functional as F\n",
        "import torch.optim as optim\n",
        "import matplotlib as plt\n",
        "\n",
        "device = \"cuda\" if torch.cuda.is_available() else \"cpu\"\n",
        "device = torch.device(device)\n",
        "# Input data files are available in the \"../input/\" directory.\n",
        "# For example, running this (by clicking run or pressing Shift+Enter) will list all files under the input directory\n",
        "\n",
        "import os\n",
        "for dirname, _, filenames in os.walk('/kaggle/input'):\n",
        "    for filename in filenames:\n",
        "        print(os.path.join(dirname, filename))\n",
        "\n",
        "# Any results you write to the current directory are saved as output.\n"
      ],
      "execution_count": 0,
      "outputs": []
    },
    {
      "cell_type": "code",
      "metadata": {
        "id": "dBRFxncRFwRq",
        "colab_type": "code",
        "colab": {}
      },
      "source": [
        "train = pd.read_csv(\"train.csv\")\n",
        "test = pd.read_csv('test.csv')"
      ],
      "execution_count": 0,
      "outputs": []
    },
    {
      "cell_type": "code",
      "metadata": {
        "id": "-zAdUoy2GnLd",
        "colab_type": "code",
        "colab": {}
      },
      "source": [
        "dict_train = dict()\n",
        "with open('train.csv') as f:\n",
        "  \"\"\"\n",
        "  'PassengerId' = 0\n",
        "  'Survived' = 1\n",
        "  'Pclass' = 2\n",
        "  'Sex' = 4\n",
        "  'Age' = 5\n",
        "  'SibSp' = 6\n",
        "  'Parch' = 7\n",
        "  \"\"\"\n",
        "  file = csv.reader(f, delimiter = \",\")\n",
        "  count = 0\n",
        "  for line in file:\n",
        "    if count == 0:\n",
        "      count += 1\n",
        "      continue\n",
        "    else:\n",
        "      dict_train[count] = dict()\n",
        "      dict_train[count]['PassengerId'] = line[0]\n",
        "      dict_train[count]['Survived'] = line[1]\n",
        "      dict_train[count]['Pclass'] = line[2]\n",
        "      dict_train[count]['Sex'] = line[4]\n",
        "      dict_train[count]['Age'] = line[5]\n",
        "      dict_train[count]['SibSp'] = line[6]\n",
        "      dict_train[count]['Parch'] = line[7]\n",
        "      count += 1"
      ],
      "execution_count": 0,
      "outputs": []
    },
    {
      "cell_type": "code",
      "metadata": {
        "id": "xW_mruUpy8XD",
        "colab_type": "code",
        "colab": {}
      },
      "source": [
        "def combine(row):\n",
        "  if row['Age'] > 35 and row['Sex'] == 'female':\n",
        "    return 1\n",
        "  else:\n",
        "    return 0\n"
      ],
      "execution_count": 0,
      "outputs": []
    },
    {
      "cell_type": "code",
      "metadata": {
        "id": "cdgkLVwWyTuz",
        "colab_type": "code",
        "colab": {}
      },
      "source": [
        "train['Age_Sex'] = train.apply (lambda row: combine(row), axis=1)\n",
        "test['Age_Sex'] = test.apply (lambda row: combine(row), axis=1)"
      ],
      "execution_count": 0,
      "outputs": []
    },
    {
      "cell_type": "code",
      "metadata": {
        "id": "HSmXO3U1O0n-",
        "colab_type": "code",
        "colab": {}
      },
      "source": [
        "change = ['Age']\n",
        "train[change] = train[change].apply(lambda x: (x - x.min()) / (x.max() - x.min()))\n",
        "test[change] = test[change].apply(lambda x: (x - x.min()) / (x.max() - x.min()))\n"
      ],
      "execution_count": 0,
      "outputs": []
    },
    {
      "cell_type": "code",
      "metadata": {
        "id": "QhO8xy6wOnn8",
        "colab_type": "code",
        "colab": {}
      },
      "source": [
        "train['Age'].fillna((train['Age'].mean()), inplace=True)\n",
        "test['Age'].fillna((test['Age'].mean()), inplace=True)"
      ],
      "execution_count": 0,
      "outputs": []
    },
    {
      "cell_type": "code",
      "metadata": {
        "id": "DUJKjVo8Oq0V",
        "colab_type": "code",
        "colab": {}
      },
      "source": [
        "train = train.replace(['male', 'female'], [0,1])\n",
        "test = test.replace(['male', 'female'], [0,1])"
      ],
      "execution_count": 0,
      "outputs": []
    },
    {
      "cell_type": "code",
      "metadata": {
        "id": "rYkt7JuVI7lA",
        "colab_type": "code",
        "colab": {}
      },
      "source": [
        "X = train[['Age', 'Pclass', 'Sex', 'SibSp', 'Parch', 'Age_Sex']]\n",
        "X_test = test[['Age', 'Pclass', 'Sex', 'SibSp', 'Parch', 'Age_Sex']]"
      ],
      "execution_count": 0,
      "outputs": []
    },
    {
      "cell_type": "code",
      "metadata": {
        "id": "XTO03YIdI-OR",
        "colab_type": "code",
        "colab": {}
      },
      "source": [
        "Y = train['Survived']"
      ],
      "execution_count": 0,
      "outputs": []
    },
    {
      "cell_type": "code",
      "metadata": {
        "id": "bF2iG6OnJp5o",
        "colab_type": "code",
        "colab": {}
      },
      "source": [
        "X.index = train['PassengerId']\n",
        "X_test.index = test['PassengerId']"
      ],
      "execution_count": 0,
      "outputs": []
    },
    {
      "cell_type": "code",
      "metadata": {
        "id": "zWgcQAuKKpuU",
        "colab_type": "code",
        "colab": {}
      },
      "source": [
        "Y.index = train['PassengerId']"
      ],
      "execution_count": 0,
      "outputs": []
    },
    {
      "cell_type": "code",
      "metadata": {
        "id": "D2i0zahALbn3",
        "colab_type": "code",
        "colab": {}
      },
      "source": [
        "class MyModel(nn.Module):\n",
        "  def __init__(self, input_size, output_size, hidden_size):\n",
        "    super(MyModel, self).__init__()\n",
        "    self.layer1 = nn.Linear(input_size, hidden_size, True)\n",
        "    self.activation1 = nn.ReLU()\n",
        "    self.layer2 = nn.Linear(hidden_size, output_size, True)\n",
        "    self.activation2 = nn.Sigmoid()\n",
        "  \n",
        "  def forward(self, x):\n",
        "    output1 = self.layer1(x)\n",
        "    activated_output1 = self.activation1(output1)\n",
        "    output2 = self.layer2(activated_output1)\n",
        "    output = self.activation2(output2)\n",
        "    return output"
      ],
      "execution_count": 0,
      "outputs": []
    },
    {
      "cell_type": "code",
      "metadata": {
        "id": "CnJmQTn6NW0l",
        "colab_type": "code",
        "outputId": "fcffc071-6d0c-4e32-de37-4eb36abc5858",
        "colab": {
          "base_uri": "https://localhost:8080/",
          "height": 68
        }
      },
      "source": [
        "hidden_size = 32\n",
        "input_size = 6 #change hardcoding\n",
        "output_size = 1\n",
        "epochs = 30\n",
        "lr = 0.01\n",
        "loss_fn = nn.BCELoss()\n",
        "\n",
        "classifier = MyModel(input_size, output_size, hidden_size)\n",
        "#optimizer = optim.SGD(classifier.parameters(), lr = lr, momentum=0.9)\n",
        "optimizer = optim.Adam(classifier.parameters(), lr = lr)\n",
        "\n",
        "classifier = classifier.to(device)\n",
        "classifier.train()\n",
        "\n",
        "for epoch in range(epochs):\n",
        "  classifier.train()\n",
        "  total_loss = 0\n",
        "\n",
        "  for index, row in X.iterrows():\n",
        "    x = torch.Tensor([row['Age'], row['Pclass'], row['Sex'], row['SibSp'], row['Parch'], row['Age_Sex']])\n",
        "    y = torch.Tensor([Y.loc[index]])\n",
        "\n",
        "    classifier.zero_grad()\n",
        "    logits = classifier.forward(x)\n",
        "    loss = loss_fn(logits, y)\n",
        "\n",
        "    optimizer.zero_grad()\n",
        "    loss.backward()\n",
        "    optimizer.step()\n",
        "    \n",
        "    total_loss += loss.item()\n",
        "  if (epoch%10 == 0):\n",
        "    print (total_loss/len(X))\n",
        "\n",
        "\n",
        "  "
      ],
      "execution_count": 123,
      "outputs": [
        {
          "output_type": "stream",
          "text": [
            "0.5117059136363526\n",
            "0.44022939092704116\n",
            "0.43013842525035845\n"
          ],
          "name": "stdout"
        }
      ]
    },
    {
      "cell_type": "code",
      "metadata": {
        "id": "hK8KNszUT7_V",
        "colab_type": "code",
        "colab": {}
      },
      "source": [
        "classifier.eval()\n",
        "correct = 0\n",
        "\n",
        "Y_pred = []\n",
        "\n",
        "for index, row in X_test.iterrows():\n",
        "    x = torch.Tensor([row['Age'], row['Pclass'], row['Sex'], row['SibSp'], row['Parch'], row['Age_Sex']])\n",
        "    y_pred = classifier.forward(x)\n",
        "    Y_pred.append(int(y_pred.round().tolist()[0]))"
      ],
      "execution_count": 0,
      "outputs": []
    },
    {
      "cell_type": "code",
      "metadata": {
        "id": "Sx2mLkgRUHRt",
        "colab_type": "code",
        "colab": {}
      },
      "source": [
        "submit = pd.DataFrame({'Survived':Y_pred})\n",
        "submit.index = test['PassengerId']\n",
        "submit.to_csv('submission1.csv', header = True)"
      ],
      "execution_count": 0,
      "outputs": []
    },
    {
      "cell_type": "code",
      "metadata": {
        "id": "5BbBpZU8ASye",
        "colab_type": "code",
        "outputId": "13e652e1-6e2f-4467-b0dd-8110e43d5bef",
        "colab": {
          "base_uri": "https://localhost:8080/",
          "height": 235
        }
      },
      "source": [
        "submit.head()"
      ],
      "execution_count": 111,
      "outputs": [
        {
          "output_type": "execute_result",
          "data": {
            "text/html": [
              "<div>\n",
              "<style scoped>\n",
              "    .dataframe tbody tr th:only-of-type {\n",
              "        vertical-align: middle;\n",
              "    }\n",
              "\n",
              "    .dataframe tbody tr th {\n",
              "        vertical-align: top;\n",
              "    }\n",
              "\n",
              "    .dataframe thead th {\n",
              "        text-align: right;\n",
              "    }\n",
              "</style>\n",
              "<table border=\"1\" class=\"dataframe\">\n",
              "  <thead>\n",
              "    <tr style=\"text-align: right;\">\n",
              "      <th></th>\n",
              "      <th>Survived</th>\n",
              "    </tr>\n",
              "    <tr>\n",
              "      <th>PassengerId</th>\n",
              "      <th></th>\n",
              "    </tr>\n",
              "  </thead>\n",
              "  <tbody>\n",
              "    <tr>\n",
              "      <th>892</th>\n",
              "      <td>0</td>\n",
              "    </tr>\n",
              "    <tr>\n",
              "      <th>893</th>\n",
              "      <td>0</td>\n",
              "    </tr>\n",
              "    <tr>\n",
              "      <th>894</th>\n",
              "      <td>0</td>\n",
              "    </tr>\n",
              "    <tr>\n",
              "      <th>895</th>\n",
              "      <td>0</td>\n",
              "    </tr>\n",
              "    <tr>\n",
              "      <th>896</th>\n",
              "      <td>1</td>\n",
              "    </tr>\n",
              "  </tbody>\n",
              "</table>\n",
              "</div>"
            ],
            "text/plain": [
              "             Survived\n",
              "PassengerId          \n",
              "892                 0\n",
              "893                 0\n",
              "894                 0\n",
              "895                 0\n",
              "896                 1"
            ]
          },
          "metadata": {
            "tags": []
          },
          "execution_count": 111
        }
      ]
    },
    {
      "cell_type": "code",
      "metadata": {
        "id": "bDZomMLIAVbM",
        "colab_type": "code",
        "colab": {}
      },
      "source": [
        "X2 = train[['Age', 'Pclass', 'Sex', 'SibSp', 'Parch', 'Survived']]"
      ],
      "execution_count": 0,
      "outputs": []
    },
    {
      "cell_type": "code",
      "metadata": {
        "id": "oOZXdq1AyT-r",
        "colab_type": "code",
        "outputId": "0b06923b-2766-4f68-dc7b-5926a4152b4b",
        "colab": {
          "base_uri": "https://localhost:8080/",
          "height": 661
        }
      },
      "source": [
        "X2.hist(column = 'Age', by='Survived', sharey = True, figsize=(10,10))\n",
        "\n",
        "#X2.loc[(X2.Survived == 0), ['Age']].plot.hist(color = 'c')\n",
        "#X2.loc[(X2.Survived == 1), ['Age']].plot.hist(color = 'm')\n"
      ],
      "execution_count": 113,
      "outputs": [
        {
          "output_type": "execute_result",
          "data": {
            "text/plain": [
              "array([<matplotlib.axes._subplots.AxesSubplot object at 0x7fdf162f9ba8>,\n",
              "       <matplotlib.axes._subplots.AxesSubplot object at 0x7fdf16312d68>],\n",
              "      dtype=object)"
            ]
          },
          "metadata": {
            "tags": []
          },
          "execution_count": 113
        },
        {
          "output_type": "display_data",
          "data": {
            "image/png": "[encoded data removed]",
            "text/plain": [
              "<Figure size 720x720 with 2 Axes>"
            ]
          },
          "metadata": {
            "tags": [],
            "needs_background": "light"
          }
        }
      ]
    },
    {
      "cell_type": "code",
      "metadata": {
        "id": "c49XG6ay2fV3",
        "colab_type": "code",
        "outputId": "f980131a-ae15-417e-e8ea-3c16e68da493",
        "colab": {
          "base_uri": "https://localhost:8080/",
          "height": 661
        }
      },
      "source": [
        "X2.hist(column = 'Sex',by='Survived', sharey = True, figsize=(10,10), bins=2)"
      ],
      "execution_count": 114,
      "outputs": [
        {
          "output_type": "execute_result",
          "data": {
            "text/plain": [
              "array([<matplotlib.axes._subplots.AxesSubplot object at 0x7fdf1699b198>,\n",
              "       <matplotlib.axes._subplots.AxesSubplot object at 0x7fdf1658def0>],\n",
              "      dtype=object)"
            ]
          },
          "metadata": {
            "tags": []
          },
          "execution_count": 114
        },
        {
          "output_type": "display_data",
          "data": {
            "image/png": "[encoded data removed]",
            "text/plain": [
              "<Figure size 720x720 with 2 Axes>"
            ]
          },
          "metadata": {
            "tags": [],
            "needs_background": "light"
          }
        }
      ]
    },
    {
      "cell_type": "code",
      "metadata": {
        "id": "6kFdkNvk7bvr",
        "colab_type": "code",
        "outputId": "70378d5e-1121-486c-e611-391b1000a846",
        "colab": {
          "base_uri": "https://localhost:8080/",
          "height": 661
        }
      },
      "source": [
        "X2.hist(column = 'Pclass',by='Survived', sharey = True, figsize=(10,10), bins=3)"
      ],
      "execution_count": 115,
      "outputs": [
        {
          "output_type": "execute_result",
          "data": {
            "text/plain": [
              "array([<matplotlib.axes._subplots.AxesSubplot object at 0x7fdf19e8a390>,\n",
              "       <matplotlib.axes._subplots.AxesSubplot object at 0x7fdf169eb4e0>],\n",
              "      dtype=object)"
            ]
          },
          "metadata": {
            "tags": []
          },
          "execution_count": 115
        },
        {
          "output_type": "display_data",
          "data": {
            "image/png": "[encoded data removed]",
            "text/plain": [
              "<Figure size 720x720 with 2 Axes>"
            ]
          },
          "metadata": {
            "tags": [],
            "needs_background": "light"
          }
        }
      ]
    },
    {
      "cell_type": "code",
      "metadata": {
        "id": "EORfcE_P7dIR",
        "colab_type": "code",
        "outputId": "016fca5a-f8fd-4626-9853-1413bb0ff087",
        "colab": {
          "base_uri": "https://localhost:8080/",
          "height": 617
        }
      },
      "source": [
        "X2.hist(column = 'Parch',by='Survived', sharey = True, figsize=(10,10), bins = 7)\n",
        "X2['Parch'].unique()"
      ],
      "execution_count": 116,
      "outputs": [
        {
          "output_type": "execute_result",
          "data": {
            "text/plain": [
              "array([0, 1, 2, 5, 3, 4, 6])"
            ]
          },
          "metadata": {
            "tags": []
          },
          "execution_count": 116
        },
        {
          "output_type": "display_data",
          "data": {
            "image/png": "[encoded data removed]",
            "text/plain": [
              "<Figure size 720x720 with 2 Axes>"
            ]
          },
          "metadata": {
            "tags": [],
            "needs_background": "light"
          }
        }
      ]
    },
    {
      "cell_type": "code",
      "metadata": {
        "id": "Gjuv8Sqp7eOq",
        "colab_type": "code",
        "colab": {}
      },
      "source": [
        ""
      ],
      "execution_count": 0,
      "outputs": []
    }
  ]
}